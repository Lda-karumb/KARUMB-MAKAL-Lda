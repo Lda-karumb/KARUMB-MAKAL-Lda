{
 "cells": [
  {
   "cell_type": "markdown",
   "id": "5862cab0-9fc4-46e1-82b4-b98af985d612",
   "metadata": {},
   "source": [
    "#  A.IMPORTATION DE LIBRAIRIES"
   ]
  },
  {
   "cell_type": "markdown",
   "id": "5b720dab-3863-44de-bc85-736a8ffd3256",
   "metadata": {},
   "source": [
    "# 1.TABLEAU"
   ]
  },
  {
   "cell_type": "markdown",
   "id": "bc826bf1-db93-4ec1-b38e-ef3fce315a3e",
   "metadata": {},
   "source": [
    "# 1.1 TABLEAU a 1D "
   ]
  },
  {
   "cell_type": "code",
   "execution_count": 2,
   "id": "fd052dd7-356b-4e06-8018-ea922e20a250",
   "metadata": {},
   "outputs": [],
   "source": [
    "import numpy as np"
   ]
  },
  {
   "cell_type": "code",
   "execution_count": 3,
   "id": "cadeac36-cdd3-48cb-a4ba-5eb3925e4d00",
   "metadata": {},
   "outputs": [],
   "source": [
    "#creation de tableau\n",
    "tab_1D = np.array([2, 54, 36, 54, 24, 15, 48])"
   ]
  },
  {
   "cell_type": "code",
   "execution_count": 4,
   "id": "eaaa5ad6-6cd5-4ec0-9e99-e9236bf37474",
   "metadata": {},
   "outputs": [
    {
     "data": {
      "text/plain": [
       "array([ 2, 54, 36, 54, 24, 15, 48])"
      ]
     },
     "execution_count": 4,
     "metadata": {},
     "output_type": "execute_result"
    }
   ],
   "source": [
    "tab_1D"
   ]
  },
  {
   "cell_type": "code",
   "execution_count": null,
   "id": "6072a64d-2473-4950-bcb7-5da3cc245d21",
   "metadata": {},
   "outputs": [],
   "source": []
  },
  {
   "cell_type": "code",
   "execution_count": 5,
   "id": "6ab90aac-5301-496a-be28-b996817676af",
   "metadata": {},
   "outputs": [],
   "source": [
    "#creation tableau a 2D"
   ]
  },
  {
   "cell_type": "code",
   "execution_count": 6,
   "id": "d9e91cd1-7fd2-4905-937a-ab98f95e3b5f",
   "metadata": {},
   "outputs": [],
   "source": [
    "tab_2D = np.array([\n",
    "    [14, 25, 10, 32, 14], [19, 26, 40, 30, 15]\n",
    "])"
   ]
  },
  {
   "cell_type": "code",
   "execution_count": 7,
   "id": "b11a95df-c2ee-44d7-8079-975c30e5c318",
   "metadata": {},
   "outputs": [
    {
     "name": "stdout",
     "output_type": "stream",
     "text": [
      "DIMENSION TABLEAU: (2, 5)\n",
      "TYPE DU TABLEAU: <class 'numpy.ndarray'>\n",
      "VOICI LE TABLEAU: [[14 25 10 32 14]\n",
      " [19 26 40 30 15]]\n"
     ]
    }
   ],
   "source": [
    "print(\"DIMENSION TABLEAU:\", tab_2D.shape)\n",
    "print(\"TYPE DU TABLEAU:\", type(tab_2D))\n",
    "print(\"VOICI LE TABLEAU:\", tab_2D)"
   ]
  },
  {
   "cell_type": "code",
   "execution_count": null,
   "id": "d2f48c50-942a-4e3e-a1ed-d7ad32ed9372",
   "metadata": {},
   "outputs": [],
   "source": []
  },
  {
   "cell_type": "code",
   "execution_count": 8,
   "id": "2786ebc7-06d0-4f44-88b1-d3634c9cb723",
   "metadata": {},
   "outputs": [],
   "source": [
    "#creation tableau a 3D\n",
    "tab_3D = np.array([[\n",
    "    [94, 55, 140, 320, 15], [190, 260,50,20 ,105], [10, 25, 54, 63,25]\n",
    "]])"
   ]
  },
  {
   "cell_type": "code",
   "execution_count": 9,
   "id": "48d6da15-2b6b-4cf4-b7e9-8f4e4cf11e22",
   "metadata": {},
   "outputs": [
    {
     "name": "stdout",
     "output_type": "stream",
     "text": [
      "DIMENSION TABLEAU: (1, 3, 5)\n",
      "TYPE DU TABLEAU: <class 'numpy.ndarray'>\n",
      "VOICI LE TABLEAU: [[[ 94  55 140 320  15]\n",
      "  [190 260  50  20 105]\n",
      "  [ 10  25  54  63  25]]]\n"
     ]
    }
   ],
   "source": [
    "print(\"DIMENSION TABLEAU:\", tab_3D.shape)\n",
    "print(\"TYPE DU TABLEAU:\", type(tab_3D))\n",
    "print(\"VOICI LE TABLEAU:\", tab_3D)"
   ]
  },
  {
   "cell_type": "code",
   "execution_count": null,
   "id": "36dc6b87-9d84-4f21-aa48-bda469b9bb1d",
   "metadata": {},
   "outputs": [],
   "source": []
  },
  {
   "cell_type": "code",
   "execution_count": 13,
   "id": "a6501569-7e68-4590-a863-44581eeeef8c",
   "metadata": {},
   "outputs": [],
   "source": [
    "#creation tableau a 4D\n",
    "tab_4D = np.array([[[\n",
    "    [49, 51, 150, 230, 22], [290, 260,60,30 ,115], [15, 30, 58, 68,35]\n",
    "]]])"
   ]
  },
  {
   "cell_type": "code",
   "execution_count": 14,
   "id": "7715ef46-288a-4d68-a669-9f21fd408e3e",
   "metadata": {},
   "outputs": [
    {
     "name": "stdout",
     "output_type": "stream",
     "text": [
      "DIMENSION TABLEAU: (1, 1, 3, 5)\n",
      "TYPE DU TABLEAU: <class 'numpy.ndarray'>\n",
      "VOICI LE TABLEAU: [[[[ 49  51 150 230  22]\n",
      "   [290 260  60  30 115]\n",
      "   [ 15  30  58  68  35]]]]\n"
     ]
    }
   ],
   "source": [
    "print(\"DIMENSION TABLEAU:\", tab_4D.shape)\n",
    "print(\"TYPE DU TABLEAU:\", type(tab_4D))\n",
    "print(\"VOICI LE TABLEAU:\", tab_4D)"
   ]
  },
  {
   "cell_type": "code",
   "execution_count": null,
   "id": "ebc40a47-e20d-4486-8937-abb5dcd3c6ab",
   "metadata": {},
   "outputs": [],
   "source": []
  },
  {
   "cell_type": "markdown",
   "id": "83aa4d20-4f30-4096-8483-d6636483eb9f",
   "metadata": {},
   "source": [
    "# B.operations"
   ]
  },
  {
   "cell_type": "code",
   "execution_count": 16,
   "id": "4280c1ee-00e8-49a0-947a-a0e4b2cfae08",
   "metadata": {},
   "outputs": [],
   "source": [
    "a = np.array([\n",
    "    [2, 4, 6, 8],\n",
    "    [25, 45, 65,85]\n",
    "])\n",
    "b = np.array([\n",
    "    [20, 40, 50, 60],\n",
    "    [214, 547, 658,956],\n",
    "])"
   ]
  },
  {
   "cell_type": "code",
   "execution_count": 17,
   "id": "d648bacb-4854-460d-8335-a79ec6ad90df",
   "metadata": {},
   "outputs": [
    {
     "name": "stdout",
     "output_type": "stream",
     "text": [
      "(2, 4)\n",
      "[[ 2  4  6  8]\n",
      " [25 45 65 85]]\n",
      "(2, 4)\n",
      "[[ 20  40  50  60]\n",
      " [214 547 658 956]]\n"
     ]
    }
   ],
   "source": [
    "print(a.shape)\n",
    "print (a)\n",
    "print(b.shape)\n",
    "print(b)"
   ]
  },
  {
   "cell_type": "code",
   "execution_count": 18,
   "id": "2fa3558d-ac88-437b-b2f4-367e0a190d5f",
   "metadata": {},
   "outputs": [
    {
     "name": "stdout",
     "output_type": "stream",
     "text": [
      "[[  22   44   56   68]\n",
      " [ 239  592  723 1041]]\n"
     ]
    }
   ],
   "source": [
    "#addition\n",
    "print(a+b)"
   ]
  },
  {
   "cell_type": "code",
   "execution_count": 19,
   "id": "fbbbb21b-15d9-42aa-a55e-42b3acfe5b19",
   "metadata": {},
   "outputs": [
    {
     "name": "stdout",
     "output_type": "stream",
     "text": [
      "[[ -18  -36  -44  -52]\n",
      " [-189 -502 -593 -871]]\n"
     ]
    }
   ],
   "source": [
    "#soustraction \n",
    "print(a-b)\n"
   ]
  },
  {
   "cell_type": "code",
   "execution_count": 20,
   "id": "cd847d76-13f4-4f8a-af5f-e2f871be99fc",
   "metadata": {},
   "outputs": [
    {
     "name": "stdout",
     "output_type": "stream",
     "text": [
      "[[   40   160   300   480]\n",
      " [ 5350 24615 42770 81260]]\n"
     ]
    }
   ],
   "source": [
    "#multiplication\n",
    "print(a*b)"
   ]
  },
  {
   "cell_type": "code",
   "execution_count": 21,
   "id": "c1483d7b-2c41-446e-9f33-cf9752613d86",
   "metadata": {},
   "outputs": [
    {
     "name": "stdout",
     "output_type": "stream",
     "text": [
      "[[0.1        0.1        0.12       0.13333333]\n",
      " [0.11682243 0.08226691 0.09878419 0.08891213]]\n"
     ]
    }
   ],
   "source": [
    "#division\n",
    "print(a/b)"
   ]
  },
  {
   "cell_type": "markdown",
   "id": "c64a93c4-0355-4cca-845f-61443d74b380",
   "metadata": {},
   "source": [
    "# C.MANIPULATION"
   ]
  },
  {
   "cell_type": "code",
   "execution_count": 50,
   "id": "889270fb-2131-4c26-984c-5b3a0fd734db",
   "metadata": {},
   "outputs": [],
   "source": [
    "#création d'un dictionnaire\n",
    "Info_etudiants = {\n",
    "    'matricule':'2024020080',\n",
    "    'nom':'karumb',\n",
    "    'prenom':'Lda',\n",
    "    'age':28,\n",
    "    'GPA':'A'\n",
    "}"
   ]
  },
  {
   "cell_type": "code",
   "execution_count": 51,
   "id": "04824a5d-604e-471a-ab4d-fc7e0db6b2ff",
   "metadata": {},
   "outputs": [
    {
     "data": {
      "text/plain": [
       "{'matricule': '2024020080',\n",
       " 'nom': 'karumb',\n",
       " 'prenom': 'Lda',\n",
       " 'age': 28,\n",
       " 'GPA': 'A'}"
      ]
     },
     "execution_count": 51,
     "metadata": {},
     "output_type": "execute_result"
    }
   ],
   "source": [
    "Info_etudiants"
   ]
  },
  {
   "cell_type": "code",
   "execution_count": 52,
   "id": "c6d50c2e-c1ce-47d2-9840-c68f5d4f41c6",
   "metadata": {},
   "outputs": [
    {
     "name": "stdout",
     "output_type": "stream",
     "text": [
      "{'matricule': '2024020080', 'nom': 'karumb', 'prenom': 'Lda', 'age': 28, 'GPA': 'A'}\n"
     ]
    }
   ],
   "source": [
    "print(Info_etudiants)"
   ]
  },
  {
   "cell_type": "code",
   "execution_count": 60,
   "id": "f8d3de30-3879-40ab-b421-bfd6002c112d",
   "metadata": {},
   "outputs": [],
   "source": [
    "Info_tout_les_etudiants_bac3_GL_IA = {\n",
    "    'matricule':['2024020080', '2024031182', '202402003', '2024020084', '2024020085'],\n",
    "    'nom':['karumb','makal', 'lady', 'boss', 'belle'],\n",
    "    'age':[28, 24, 26, 22, 20],\n",
    "    'GPA':['A','B', 'C', 'E','F']\n",
    "}"
   ]
  },
  {
   "cell_type": "code",
   "execution_count": 61,
   "id": "2d5a8d26-4b44-4262-8728-0402f15f00b0",
   "metadata": {},
   "outputs": [
    {
     "name": "stdout",
     "output_type": "stream",
     "text": [
      "voici les données des etudiants {'matricule': ['2024020080', '2024031182', '202402003', '2024020084', '2024020085'], 'nom': ['karumb', 'makal', 'lady', 'boss', 'belle'], 'age': [28, 24, 26, 22, 20], 'GPA': ['A', 'B', 'C', 'E', 'F']}\n"
     ]
    }
   ],
   "source": [
    "print('voici les données des etudiants',Info_tout_les_etudiants_bac3_GL_IA)"
   ]
  },
  {
   "cell_type": "code",
   "execution_count": 62,
   "id": "d73d6bb8-0b3d-4f79-b4d2-593b303371bb",
   "metadata": {},
   "outputs": [],
   "source": [
    "#importer pandas\n",
    "import pandas as pd"
   ]
  },
  {
   "cell_type": "code",
   "execution_count": 64,
   "id": "b561af1e-39b4-4196-af30-86050cab8881",
   "metadata": {},
   "outputs": [],
   "source": [
    "donnees_etudiants = pd.DataFrame(Info_tout_les_etudiants_bac3_GL_IA)"
   ]
  },
  {
   "cell_type": "code",
   "execution_count": 65,
   "id": "4388a40d-0e73-4cef-9300-b94b3ac086fb",
   "metadata": {},
   "outputs": [
    {
     "data": {
      "text/html": [
       "<div>\n",
       "<style scoped>\n",
       "    .dataframe tbody tr th:only-of-type {\n",
       "        vertical-align: middle;\n",
       "    }\n",
       "\n",
       "    .dataframe tbody tr th {\n",
       "        vertical-align: top;\n",
       "    }\n",
       "\n",
       "    .dataframe thead th {\n",
       "        text-align: right;\n",
       "    }\n",
       "</style>\n",
       "<table border=\"1\" class=\"dataframe\">\n",
       "  <thead>\n",
       "    <tr style=\"text-align: right;\">\n",
       "      <th></th>\n",
       "      <th>matricule</th>\n",
       "      <th>nom</th>\n",
       "      <th>age</th>\n",
       "      <th>GPA</th>\n",
       "    </tr>\n",
       "  </thead>\n",
       "  <tbody>\n",
       "    <tr>\n",
       "      <th>0</th>\n",
       "      <td>2024020080</td>\n",
       "      <td>karumb</td>\n",
       "      <td>28</td>\n",
       "      <td>A</td>\n",
       "    </tr>\n",
       "    <tr>\n",
       "      <th>1</th>\n",
       "      <td>2024031182</td>\n",
       "      <td>makal</td>\n",
       "      <td>24</td>\n",
       "      <td>B</td>\n",
       "    </tr>\n",
       "    <tr>\n",
       "      <th>2</th>\n",
       "      <td>202402003</td>\n",
       "      <td>lady</td>\n",
       "      <td>26</td>\n",
       "      <td>C</td>\n",
       "    </tr>\n",
       "    <tr>\n",
       "      <th>3</th>\n",
       "      <td>2024020084</td>\n",
       "      <td>boss</td>\n",
       "      <td>22</td>\n",
       "      <td>E</td>\n",
       "    </tr>\n",
       "    <tr>\n",
       "      <th>4</th>\n",
       "      <td>2024020085</td>\n",
       "      <td>belle</td>\n",
       "      <td>20</td>\n",
       "      <td>F</td>\n",
       "    </tr>\n",
       "  </tbody>\n",
       "</table>\n",
       "</div>"
      ],
      "text/plain": [
       "    matricule     nom  age GPA\n",
       "0  2024020080  karumb   28   A\n",
       "1  2024031182   makal   24   B\n",
       "2   202402003    lady   26   C\n",
       "3  2024020084    boss   22   E\n",
       "4  2024020085   belle   20   F"
      ]
     },
     "execution_count": 65,
     "metadata": {},
     "output_type": "execute_result"
    }
   ],
   "source": [
    "donnees_etudiants"
   ]
  },
  {
   "cell_type": "code",
   "execution_count": 66,
   "id": "7c9f6ced-25d1-49cc-87d9-7d8f0884d4b2",
   "metadata": {},
   "outputs": [
    {
     "data": {
      "text/html": [
       "<div>\n",
       "<style scoped>\n",
       "    .dataframe tbody tr th:only-of-type {\n",
       "        vertical-align: middle;\n",
       "    }\n",
       "\n",
       "    .dataframe tbody tr th {\n",
       "        vertical-align: top;\n",
       "    }\n",
       "\n",
       "    .dataframe thead th {\n",
       "        text-align: right;\n",
       "    }\n",
       "</style>\n",
       "<table border=\"1\" class=\"dataframe\">\n",
       "  <thead>\n",
       "    <tr style=\"text-align: right;\">\n",
       "      <th></th>\n",
       "      <th>matricule</th>\n",
       "      <th>nom</th>\n",
       "      <th>age</th>\n",
       "      <th>GPA</th>\n",
       "    </tr>\n",
       "  </thead>\n",
       "  <tbody>\n",
       "    <tr>\n",
       "      <th>0</th>\n",
       "      <td>2024020080</td>\n",
       "      <td>karumb</td>\n",
       "      <td>28</td>\n",
       "      <td>A</td>\n",
       "    </tr>\n",
       "    <tr>\n",
       "      <th>1</th>\n",
       "      <td>2024031182</td>\n",
       "      <td>makal</td>\n",
       "      <td>24</td>\n",
       "      <td>B</td>\n",
       "    </tr>\n",
       "  </tbody>\n",
       "</table>\n",
       "</div>"
      ],
      "text/plain": [
       "    matricule     nom  age GPA\n",
       "0  2024020080  karumb   28   A\n",
       "1  2024031182   makal   24   B"
      ]
     },
     "execution_count": 66,
     "metadata": {},
     "output_type": "execute_result"
    }
   ],
   "source": [
    "donnees_etudiants.head(2)"
   ]
  },
  {
   "cell_type": "code",
   "execution_count": 67,
   "id": "74094d9e-221d-445d-bf93-e8c8f364d1c2",
   "metadata": {},
   "outputs": [
    {
     "data": {
      "text/plain": [
       "0    2024020080\n",
       "1    2024031182\n",
       "2     202402003\n",
       "3    2024020084\n",
       "4    2024020085\n",
       "Name: matricule, dtype: object"
      ]
     },
     "execution_count": 67,
     "metadata": {},
     "output_type": "execute_result"
    }
   ],
   "source": [
    "donnees_etudiants['matricule']"
   ]
  },
  {
   "cell_type": "code",
   "execution_count": 68,
   "id": "1f7a0e50-9f26-426a-a948-937531a9fb39",
   "metadata": {},
   "outputs": [
    {
     "data": {
      "text/html": [
       "<div>\n",
       "<style scoped>\n",
       "    .dataframe tbody tr th:only-of-type {\n",
       "        vertical-align: middle;\n",
       "    }\n",
       "\n",
       "    .dataframe tbody tr th {\n",
       "        vertical-align: top;\n",
       "    }\n",
       "\n",
       "    .dataframe thead th {\n",
       "        text-align: right;\n",
       "    }\n",
       "</style>\n",
       "<table border=\"1\" class=\"dataframe\">\n",
       "  <thead>\n",
       "    <tr style=\"text-align: right;\">\n",
       "      <th></th>\n",
       "      <th>matricule</th>\n",
       "      <th>nom</th>\n",
       "      <th>age</th>\n",
       "      <th>GPA</th>\n",
       "    </tr>\n",
       "  </thead>\n",
       "  <tbody>\n",
       "    <tr>\n",
       "      <th>3</th>\n",
       "      <td>2024020084</td>\n",
       "      <td>boss</td>\n",
       "      <td>22</td>\n",
       "      <td>E</td>\n",
       "    </tr>\n",
       "  </tbody>\n",
       "</table>\n",
       "</div>"
      ],
      "text/plain": [
       "    matricule   nom  age GPA\n",
       "3  2024020084  boss   22   E"
      ]
     },
     "execution_count": 68,
     "metadata": {},
     "output_type": "execute_result"
    }
   ],
   "source": [
    "donnees_etudiants.iloc[3:4, : ]"
   ]
  },
  {
   "cell_type": "code",
   "execution_count": 70,
   "id": "bed6a8d5-0633-49ea-bc33-7e40e4947da3",
   "metadata": {},
   "outputs": [
    {
     "data": {
      "text/plain": [
       "<pandas.core.indexing._iLocIndexer at 0x1e0d81a1a80>"
      ]
     },
     "execution_count": 70,
     "metadata": {},
     "output_type": "execute_result"
    }
   ],
   "source": [
    "donnees_etudiants.iloc"
   ]
  },
  {
   "cell_type": "code",
   "execution_count": 71,
   "id": "abd629a6-f68f-4321-b991-0d49b5f66da0",
   "metadata": {},
   "outputs": [],
   "source": [
    "#ajuster les colonnes\n",
    "donnees_etudiants['Genre'] = ['M', 'M', 'F','M', 'M']\n",
    "donnees_etudiants['pourcentage'] = [18,25,56,65,70]"
   ]
  },
  {
   "cell_type": "code",
   "execution_count": 72,
   "id": "6f5f5856-1391-4bd2-8b8b-b05939c21c7d",
   "metadata": {},
   "outputs": [
    {
     "data": {
      "text/html": [
       "<div>\n",
       "<style scoped>\n",
       "    .dataframe tbody tr th:only-of-type {\n",
       "        vertical-align: middle;\n",
       "    }\n",
       "\n",
       "    .dataframe tbody tr th {\n",
       "        vertical-align: top;\n",
       "    }\n",
       "\n",
       "    .dataframe thead th {\n",
       "        text-align: right;\n",
       "    }\n",
       "</style>\n",
       "<table border=\"1\" class=\"dataframe\">\n",
       "  <thead>\n",
       "    <tr style=\"text-align: right;\">\n",
       "      <th></th>\n",
       "      <th>matricule</th>\n",
       "      <th>nom</th>\n",
       "      <th>age</th>\n",
       "      <th>GPA</th>\n",
       "      <th>Genre</th>\n",
       "      <th>pourcentage</th>\n",
       "    </tr>\n",
       "  </thead>\n",
       "  <tbody>\n",
       "    <tr>\n",
       "      <th>0</th>\n",
       "      <td>2024020080</td>\n",
       "      <td>karumb</td>\n",
       "      <td>28</td>\n",
       "      <td>A</td>\n",
       "      <td>M</td>\n",
       "      <td>18</td>\n",
       "    </tr>\n",
       "    <tr>\n",
       "      <th>1</th>\n",
       "      <td>2024031182</td>\n",
       "      <td>makal</td>\n",
       "      <td>24</td>\n",
       "      <td>B</td>\n",
       "      <td>M</td>\n",
       "      <td>25</td>\n",
       "    </tr>\n",
       "    <tr>\n",
       "      <th>2</th>\n",
       "      <td>202402003</td>\n",
       "      <td>lady</td>\n",
       "      <td>26</td>\n",
       "      <td>C</td>\n",
       "      <td>F</td>\n",
       "      <td>56</td>\n",
       "    </tr>\n",
       "    <tr>\n",
       "      <th>3</th>\n",
       "      <td>2024020084</td>\n",
       "      <td>boss</td>\n",
       "      <td>22</td>\n",
       "      <td>E</td>\n",
       "      <td>M</td>\n",
       "      <td>65</td>\n",
       "    </tr>\n",
       "    <tr>\n",
       "      <th>4</th>\n",
       "      <td>2024020085</td>\n",
       "      <td>belle</td>\n",
       "      <td>20</td>\n",
       "      <td>F</td>\n",
       "      <td>M</td>\n",
       "      <td>70</td>\n",
       "    </tr>\n",
       "  </tbody>\n",
       "</table>\n",
       "</div>"
      ],
      "text/plain": [
       "    matricule     nom  age GPA Genre  pourcentage\n",
       "0  2024020080  karumb   28   A     M           18\n",
       "1  2024031182   makal   24   B     M           25\n",
       "2   202402003    lady   26   C     F           56\n",
       "3  2024020084    boss   22   E     M           65\n",
       "4  2024020085   belle   20   F     M           70"
      ]
     },
     "execution_count": 72,
     "metadata": {},
     "output_type": "execute_result"
    }
   ],
   "source": [
    "donnees_etudiants"
   ]
  },
  {
   "cell_type": "code",
   "execution_count": 74,
   "id": "405e9c18-481f-4990-80bc-5192d68f5419",
   "metadata": {},
   "outputs": [],
   "source": [
    "#supprimer la colonne GPA\n",
    "donnees_etudiants.drop(columns='GPA', inplace=True, axis=1)"
   ]
  },
  {
   "cell_type": "code",
   "execution_count": 75,
   "id": "3d12a725-d072-4420-9bc7-426f70218bae",
   "metadata": {},
   "outputs": [
    {
     "data": {
      "text/html": [
       "<div>\n",
       "<style scoped>\n",
       "    .dataframe tbody tr th:only-of-type {\n",
       "        vertical-align: middle;\n",
       "    }\n",
       "\n",
       "    .dataframe tbody tr th {\n",
       "        vertical-align: top;\n",
       "    }\n",
       "\n",
       "    .dataframe thead th {\n",
       "        text-align: right;\n",
       "    }\n",
       "</style>\n",
       "<table border=\"1\" class=\"dataframe\">\n",
       "  <thead>\n",
       "    <tr style=\"text-align: right;\">\n",
       "      <th></th>\n",
       "      <th>matricule</th>\n",
       "      <th>nom</th>\n",
       "      <th>age</th>\n",
       "      <th>Genre</th>\n",
       "      <th>pourcentage</th>\n",
       "    </tr>\n",
       "  </thead>\n",
       "  <tbody>\n",
       "    <tr>\n",
       "      <th>0</th>\n",
       "      <td>2024020080</td>\n",
       "      <td>karumb</td>\n",
       "      <td>28</td>\n",
       "      <td>M</td>\n",
       "      <td>18</td>\n",
       "    </tr>\n",
       "    <tr>\n",
       "      <th>1</th>\n",
       "      <td>2024031182</td>\n",
       "      <td>makal</td>\n",
       "      <td>24</td>\n",
       "      <td>M</td>\n",
       "      <td>25</td>\n",
       "    </tr>\n",
       "    <tr>\n",
       "      <th>2</th>\n",
       "      <td>202402003</td>\n",
       "      <td>lady</td>\n",
       "      <td>26</td>\n",
       "      <td>F</td>\n",
       "      <td>56</td>\n",
       "    </tr>\n",
       "    <tr>\n",
       "      <th>3</th>\n",
       "      <td>2024020084</td>\n",
       "      <td>boss</td>\n",
       "      <td>22</td>\n",
       "      <td>M</td>\n",
       "      <td>65</td>\n",
       "    </tr>\n",
       "    <tr>\n",
       "      <th>4</th>\n",
       "      <td>2024020085</td>\n",
       "      <td>belle</td>\n",
       "      <td>20</td>\n",
       "      <td>M</td>\n",
       "      <td>70</td>\n",
       "    </tr>\n",
       "  </tbody>\n",
       "</table>\n",
       "</div>"
      ],
      "text/plain": [
       "    matricule     nom  age Genre  pourcentage\n",
       "0  2024020080  karumb   28     M           18\n",
       "1  2024031182   makal   24     M           25\n",
       "2   202402003    lady   26     F           56\n",
       "3  2024020084    boss   22     M           65\n",
       "4  2024020085   belle   20     M           70"
      ]
     },
     "execution_count": 75,
     "metadata": {},
     "output_type": "execute_result"
    }
   ],
   "source": [
    "donnees_etudiants"
   ]
  },
  {
   "cell_type": "code",
   "execution_count": null,
   "id": "0dabd3e9-6f04-41e3-b7e0-37d942a009bb",
   "metadata": {},
   "outputs": [],
   "source": [
    "#convertir la colonne genre en m=1 et f=0\n",
    "#mapping de la colonne genre\n",
    "#premiere methode\n",
    " Mapping_genre ={\n",
    "   'M':1,\n",
    "   'F':0\n",
    "}\n",
    "donnees_etudiants['genre']=donnees_etudiants['gene'].map(Mapping_genre)\n",
    "donnees_etudiants"
   ]
  },
  {
   "cell_type": "markdown",
   "id": "915e298a-71af-4c85-9a04-18ccd42fddb0",
   "metadata": {},
   "source": [
    "# D.visualistaion des donnees"
   ]
  },
  {
   "cell_type": "code",
   "execution_count": 94,
   "id": "0fd5389f-ab91-4dd2-97f4-5e65625aff9c",
   "metadata": {},
   "outputs": [],
   "source": [
    "#creation des colonnes\n",
    "X = np.linspace(0, 2, 50)"
   ]
  },
  {
   "cell_type": "code",
   "execution_count": 95,
   "id": "18ab94a0-1276-4433-b9c0-da72bf731114",
   "metadata": {},
   "outputs": [
    {
     "data": {
      "text/plain": [
       "array([0.        , 0.04081633, 0.08163265, 0.12244898, 0.16326531,\n",
       "       0.20408163, 0.24489796, 0.28571429, 0.32653061, 0.36734694,\n",
       "       0.40816327, 0.44897959, 0.48979592, 0.53061224, 0.57142857,\n",
       "       0.6122449 , 0.65306122, 0.69387755, 0.73469388, 0.7755102 ,\n",
       "       0.81632653, 0.85714286, 0.89795918, 0.93877551, 0.97959184,\n",
       "       1.02040816, 1.06122449, 1.10204082, 1.14285714, 1.18367347,\n",
       "       1.2244898 , 1.26530612, 1.30612245, 1.34693878, 1.3877551 ,\n",
       "       1.42857143, 1.46938776, 1.51020408, 1.55102041, 1.59183673,\n",
       "       1.63265306, 1.67346939, 1.71428571, 1.75510204, 1.79591837,\n",
       "       1.83673469, 1.87755102, 1.91836735, 1.95918367, 2.        ])"
      ]
     },
     "execution_count": 95,
     "metadata": {},
     "output_type": "execute_result"
    }
   ],
   "source": [
    "X"
   ]
  },
  {
   "cell_type": "code",
   "execution_count": 96,
   "id": "02a7de84-06d0-4f3f-863f-8cc4ee50c70a",
   "metadata": {},
   "outputs": [],
   "source": [
    "#importer matploli\n",
    "import matplotlib.pyplot as plt"
   ]
  },
  {
   "cell_type": "code",
   "execution_count": 97,
   "id": "4839a1f2-3aba-4ab5-8310-a25ebd2183fe",
   "metadata": {},
   "outputs": [
    {
     "data": {
      "text/plain": [
       "<matplotlib.legend.Legend at 0x1e0dc967790>"
      ]
     },
     "execution_count": 97,
     "metadata": {},
     "output_type": "execute_result"
    },
    {
     "data": {
      "image/png": "[encoded data removed]",
      "text/plain": [
       "<Figure size 600x400 with 1 Axes>"
      ]
     },
     "metadata": {},
     "output_type": "display_data"
    }
   ],
   "source": [
    "fig, ax =plt.subplots(figsize=(6,4))\n",
    "ax.plot(X,X**2, label='Double')\n",
    "ax.plot(X,X**2, label='caree de x')\n",
    "ax.plot(X,X**3, label='cube de x')\n",
    "ax.set_xlabel('Donnees de x')\n",
    "ax.set_ylabel('Donnees de y')\n",
    "plt.title('Donnees de linspace entre 0 et 2')\n",
    "ax.legend()\n"
   ]
  },
  {
   "cell_type": "code",
   "execution_count": 98,
   "id": "a075e91c-9c58-42ac-9fe6-ddfc5bd2c7f6",
   "metadata": {},
   "outputs": [],
   "source": [
    "# importer seaborn\n",
    "import seaborn as sns"
   ]
  },
  {
   "cell_type": "code",
   "execution_count": 99,
   "id": "7a1bb492-22a2-4cf9-9015-5fde9c12d69d",
   "metadata": {},
   "outputs": [
    {
     "data": {
      "text/html": [
       "<div>\n",
       "<style scoped>\n",
       "    .dataframe tbody tr th:only-of-type {\n",
       "        vertical-align: middle;\n",
       "    }\n",
       "\n",
       "    .dataframe tbody tr th {\n",
       "        vertical-align: top;\n",
       "    }\n",
       "\n",
       "    .dataframe thead th {\n",
       "        text-align: right;\n",
       "    }\n",
       "</style>\n",
       "<table border=\"1\" class=\"dataframe\">\n",
       "  <thead>\n",
       "    <tr style=\"text-align: right;\">\n",
       "      <th></th>\n",
       "      <th>sepal_length</th>\n",
       "      <th>sepal_width</th>\n",
       "      <th>petal_length</th>\n",
       "      <th>petal_width</th>\n",
       "      <th>species</th>\n",
       "    </tr>\n",
       "  </thead>\n",
       "  <tbody>\n",
       "    <tr>\n",
       "      <th>0</th>\n",
       "      <td>5.1</td>\n",
       "      <td>3.5</td>\n",
       "      <td>1.4</td>\n",
       "      <td>0.2</td>\n",
       "      <td>setosa</td>\n",
       "    </tr>\n",
       "    <tr>\n",
       "      <th>1</th>\n",
       "      <td>4.9</td>\n",
       "      <td>3.0</td>\n",
       "      <td>1.4</td>\n",
       "      <td>0.2</td>\n",
       "      <td>setosa</td>\n",
       "    </tr>\n",
       "    <tr>\n",
       "      <th>2</th>\n",
       "      <td>4.7</td>\n",
       "      <td>3.2</td>\n",
       "      <td>1.3</td>\n",
       "      <td>0.2</td>\n",
       "      <td>setosa</td>\n",
       "    </tr>\n",
       "    <tr>\n",
       "      <th>3</th>\n",
       "      <td>4.6</td>\n",
       "      <td>3.1</td>\n",
       "      <td>1.5</td>\n",
       "      <td>0.2</td>\n",
       "      <td>setosa</td>\n",
       "    </tr>\n",
       "    <tr>\n",
       "      <th>4</th>\n",
       "      <td>5.0</td>\n",
       "      <td>3.6</td>\n",
       "      <td>1.4</td>\n",
       "      <td>0.2</td>\n",
       "      <td>setosa</td>\n",
       "    </tr>\n",
       "  </tbody>\n",
       "</table>\n",
       "</div>"
      ],
      "text/plain": [
       "   sepal_length  sepal_width  petal_length  petal_width species\n",
       "0           5.1          3.5           1.4          0.2  setosa\n",
       "1           4.9          3.0           1.4          0.2  setosa\n",
       "2           4.7          3.2           1.3          0.2  setosa\n",
       "3           4.6          3.1           1.5          0.2  setosa\n",
       "4           5.0          3.6           1.4          0.2  setosa"
      ]
     },
     "execution_count": 99,
     "metadata": {},
     "output_type": "execute_result"
    }
   ],
   "source": [
    "iris_data= sns.load_dataset('iris')\n",
    "\n",
    "iris_data.head()"
   ]
  },
  {
   "cell_type": "code",
   "execution_count": 101,
   "id": "391a2479-bf3e-4257-8405-9c62ae659db5",
   "metadata": {},
   "outputs": [
    {
     "data": {
      "text/plain": [
       "array(['setosa', 'versicolor', 'virginica'], dtype=object)"
      ]
     },
     "execution_count": 101,
     "metadata": {},
     "output_type": "execute_result"
    }
   ],
   "source": [
    "iris_data.shape\n",
    "(150,5)\n",
    "iris_data['species'].unique()"
   ]
  },
  {
   "cell_type": "code",
   "execution_count": 104,
   "id": "b7054665-2cde-4907-ae91-2dfd847e8ee5",
   "metadata": {},
   "outputs": [
    {
     "data": {
      "text/plain": [
       "<Axes: xlabel='sepal_length', ylabel='sepal_width'>"
      ]
     },
     "execution_count": 104,
     "metadata": {},
     "output_type": "execute_result"
    },
    {
     "data": {
      "image/png": "[encoded data removed]",
      "text/plain": [
       "<Figure size 640x480 with 1 Axes>"
      ]
     },
     "metadata": {},
     "output_type": "display_data"
    }
   ],
   "source": [
    "sns.scatterplot(x='sepal_length', y='sepal_width', data=iris_data, hue='species')"
   ]
  },
  {
   "cell_type": "code",
   "execution_count": 107,
   "id": "a120317c-dc1e-4de0-a332-f2bfb999a9e0",
   "metadata": {},
   "outputs": [
    {
     "data": {
      "text/plain": [
       "array([0, 1, 2])"
      ]
     },
     "execution_count": 107,
     "metadata": {},
     "output_type": "execute_result"
    }
   ],
   "source": [
    "mapping_species = {\n",
    "    'setosa': 0,\n",
    "    'versicolor': 1,3\n",
    "\n",
    "\n",
    "    \n",
    "    'virginica': 2\n",
    "}\n",
    "\n",
    "iris_data['species'] = iris_data['species'].map(mapping_species)\n",
    "iris_data['species'].unique()\n"
   ]
  },
  {
   "cell_type": "code",
   "execution_count": null,
   "id": "6fec3840-8f4e-4124-a3af-a9ea88e48a13",
   "metadata": {},
   "outputs": [],
   "source": []
  }
 ],
 "metadata": {
  "kernelspec": {
   "display_name": "Python 3 (ipykernel)",
   "language": "python",
   "name": "python3"
  },
  "language_info": {
   "codemirror_mode": {
    "name": "ipython",
    "version": 3
   },
   "file_extension": ".py",
   "mimetype": "text/x-python",
   "name": "python",
   "nbconvert_exporter": "python",
   "pygments_lexer": "ipython3",
   "version": "3.10.16"
  }
 },
 "nbformat": 4,
 "nbformat_minor": 5
}
